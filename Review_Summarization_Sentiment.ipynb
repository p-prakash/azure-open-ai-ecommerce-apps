{
  "cells": [
    {
      "cell_type": "markdown",
      "metadata": {
        "nteract": {
          "transient": {
            "deleting": false
          }
        }
      },
      "source": [
        "### Installing the required python libraries (e.g. openai)"
      ]
    },
    {
      "cell_type": "code",
      "execution_count": 98,
      "metadata": {
        "gather": {
          "logged": 1677677553940
        },
        "jupyter": {
          "outputs_hidden": false,
          "source_hidden": false
        },
        "nteract": {
          "transient": {
            "deleting": false
          }
        }
      },
      "outputs": [
        {
          "name": "stdout",
          "output_type": "stream",
          "text": [
            "Checking for openai...\n",
            "Checking for num2words...\n",
            "Checking for openai[embeddings]...\n"
          ]
        }
      ],
      "source": [
        "import os\n",
        "import re\n",
        "import sys\n",
        "import subprocess\n",
        "import importlib.metadata\n",
        "from time import sleep\n",
        "from azure.identity import DefaultAzureCredential\n",
        "\n",
        "required = ['openai', 'num2words', 'openai[embeddings]']\n",
        "for pkg in required:\n",
        "    print(f'Checking for {pkg}...')\n",
        "    try:\n",
        "        importlib.metadata.version(pkg)\n",
        "    except importlib.metadata.PackageNotFoundError:\n",
        "        subprocess.check_call([sys.executable, '-m', 'pip', 'install', '--quiet', pkg])\n",
        "\n",
        "az_credential = DefaultAzureCredential()"
      ]
    },
    {
      "cell_type": "markdown",
      "metadata": {
        "nteract": {
          "transient": {
            "deleting": false
          }
        }
      },
      "source": [
        "### Importing the required python modules"
      ]
    },
    {
      "cell_type": "code",
      "execution_count": 12,
      "metadata": {
        "gather": {
          "logged": 1677654141926
        }
      },
      "outputs": [],
      "source": [
        "import pandas as pd\n",
        "import numpy as np\n",
        "import openai\n",
        "import requests\n",
        "from num2words import num2words\n",
        "from openai.embeddings_utils import get_embedding, cosine_similarity\n",
        "\n",
        "# Define colors to print in the console\n",
        "BLUE = '\\033[94m'\n",
        "CYAN = '\\033[96m'\n",
        "OKGREEN = '\\033[92m'\n",
        "WARNING = '\\033[93m'\n",
        "FAIL = '\\033[91m'\n",
        "ENDC = '\\033[0m'\n",
        "BOLD = '\\033[1m'\n",
        "UNDERLINE = '\\033[4m'"
      ]
    },
    {
      "cell_type": "markdown",
      "metadata": {
        "nteract": {
          "transient": {
            "deleting": false
          }
        }
      },
      "source": [
        "### Configure your Azure Open AI Endpoint & API Key\n",
        "\n",
        "You can find the Endpoint & Key in the **Keys and Endpoint** section of your Open AI resource on the left navigation pane."
      ]
    },
    {
      "cell_type": "code",
      "execution_count": 13,
      "metadata": {
        "gather": {
          "logged": 1677654144098
        },
        "jupyter": {
          "outputs_hidden": false,
          "source_hidden": false
        },
        "nteract": {
          "transient": {
            "deleting": false
          }
        }
      },
      "outputs": [],
      "source": [
        "# Update the RESOURCE_ENDPOINT to your Azure Open AI Endpoint\n",
        "RESOURCE_ENDPOINT = 'https://demo-1.openai.azure.com/'\n",
        "\n",
        "# Update the API_KEY Azure Open AI API Key\n",
        "API_KEY = 'example3xjqidkobjcod6fvnvexample'\n",
        "\n",
        "openai.api_type = \"azure\"\n",
        "openai.api_key = API_KEY\n",
        "openai.api_base = RESOURCE_ENDPOINT\n",
        "openai.api_version = \"2022-12-01\""
      ]
    },
    {
      "cell_type": "markdown",
      "metadata": {
        "nteract": {
          "transient": {
            "deleting": false
          }
        }
      },
      "source": [
        "Necessary functions which will be used later\n",
        "\n",
        "* `normalise_text` - Function to normalize the input text to remove multiple spaces, additional punctuation, etc.\n",
        "* `individual_summary` - Based on the given text prompt, get the summarisation using `test-davinci-003` model. You need to update the value of **engine** attribute to the name of the model that you have deployed.\n",
        "* `summarise_review` - Takes data frame, asin, and category as input to calculate the summary of all the reviews for the specific asin in that category\n",
        "* `get_summary_output` - Takes summarised text as input and extract the top result out of it\n",
        "* `summary_response` - Takes data frame and asin as input to get the summary of text for all 3 categories (Quality, Cost, and Delivery) by calling `summarise_review` function\n",
        "* `sentiment_count` - Takes data frame and asin as input to detect the setniment across all 3 categories.\n",
        "* `asin_review_data` - Takes data frame and asin as input to summarise the text and get the sentiment for that specific asin.\n",
        "\n"
      ]
    },
    {
      "cell_type": "code",
      "execution_count": 76,
      "metadata": {
        "gather": {
          "logged": 1677667941649
        },
        "jupyter": {
          "outputs_hidden": false,
          "source_hidden": false
        },
        "nteract": {
          "transient": {
            "deleting": false
          }
        }
      },
      "outputs": [],
      "source": [
        "def normalise_text(s, sep_token = \" \\n \"):\n",
        "    if type(s) != str:\n",
        "        print(s)\n",
        "        return s\n",
        "    s = re.sub(r'\\s+',  ' ', s).strip()\n",
        "    s = re.sub(r\". ,\",\"\",s)\n",
        "    # remove all instances of multiple spaces\n",
        "    s = s.replace(\"..\",\".\")\n",
        "    s = s.replace(\". .\",\".\")\n",
        "    s = s.replace(\"\\n\", \"\")\n",
        "    s = s.strip()\n",
        "    \n",
        "    return s\n",
        "\n",
        "\n",
        "def individual_summary(r_text):\n",
        "    response = openai.Completion.create(\n",
        "        engine=\"test-davinci-003\",\n",
        "        prompt=r_text,\n",
        "        temperature=0.7,\n",
        "        max_tokens=100,\n",
        "        top_p=1,\n",
        "        frequency_penalty=0,\n",
        "        presence_penalty=0,\n",
        "        best_of=1,\n",
        "        stop=None)\n",
        "    return response\n",
        "\n",
        "\n",
        "def summarise_review(df, asin, category):\n",
        "    df_filtered = df[(df['asin'] == asin) & (df['category'] == category)]\n",
        "    if len(df_filtered) == 0:\n",
        "        return 'Empty'\n",
        "\n",
        "    df_filtered.reset_index(inplace=True, drop=True)\n",
        "    review_text = ''\n",
        "    for i in range(len(df_filtered)):\n",
        "        review_text += df_filtered['reviewText'][i]\n",
        "        review_text += ' '\n",
        "\n",
        "    review_text = normalise_text(review_text.rstrip()) + '\\n\\nTl;dr'\n",
        "    if len(review_text) < 3900:\n",
        "        return individual_summary(review_text)\n",
        "    else:\n",
        "        review_chunk = ''\n",
        "        chunks = len(review_text) // 3900\n",
        "        for i in range(1, chunks + 1):\n",
        "            temp_response = individual_summary(review_text[3900 * (i - 1):3900 * i])\n",
        "            for t_res in temp_response['choices']:\n",
        "                if t_res['index'] == 0:\n",
        "                    review_chunk += t_res['text'].removeprefix(': ')\n",
        "                    break\n",
        "\n",
        "        return individual_summary(review_chunk)\n",
        "\n",
        "\n",
        "def get_summary_output(summary_data):\n",
        "    if summary_data == 'Empty':\n",
        "        return 'No Reviews'\n",
        "\n",
        "    for summary in summary_data['choices']:\n",
        "            if summary['index'] == 0:\n",
        "                return summary['text'].removeprefix(': ')\n",
        "\n",
        "\n",
        "def summary_response(df, asin):\n",
        "    quality_response = summarise_review(df, asin, 'Quality')\n",
        "    cost_response = summarise_review(df, asin, 'Cost')\n",
        "    delivery_response = summarise_review(df, asin, 'Delivery')\n",
        "    summaries = {\n",
        "        'quality': get_summary_output(quality_response),\n",
        "        'cost': get_summary_output(cost_response),\n",
        "        'delivery': get_summary_output(delivery_response)\n",
        "    }\n",
        "    return summaries\n",
        "\n",
        "\n",
        "def sentiment_count(df, asin):\n",
        "    df_filtered = df[df['asin'] == asin]\n",
        "    quality_sen = df_filtered[df_filtered['category'] == 'Quality'].sentiment.value_counts()\n",
        "    cost_sen = df_filtered[df_filtered['category'] == 'Cost'].sentiment.value_counts()\n",
        "    delivery_sen = df_filtered[df_filtered['category'] == 'Delivery'].sentiment.value_counts()\n",
        "    sentiment_data = {\n",
        "        'quality': {\n",
        "            'positive': quality_sen.get(key = 'Positive') or 0,\n",
        "            'negative': quality_sen.get(key = 'Negative') or 0,\n",
        "            'neutral': quality_sen.get(key = 'Neutral') or 0\n",
        "        },\n",
        "        'cost': {\n",
        "            'positive': cost_sen.get(key = 'Positive') or 0,\n",
        "            'negative': cost_sen.get(key = 'Negative') or 0,\n",
        "            'neutral': cost_sen.get(key = 'Neutral') or 0\n",
        "        },\n",
        "        'delivery': {\n",
        "            'positive': delivery_sen.get(key = 'Positive') or 0,\n",
        "            'negative': delivery_sen.get(key = 'Negative') or 0,\n",
        "            'neutral': delivery_sen.get(key = 'Neutral') or 0\n",
        "        }\n",
        "    }\n",
        "    return sentiment_data\n",
        "\n",
        "\n",
        "def asin_review_data(df, asin):\n",
        "    review_summaries = summary_response(df, asin)\n",
        "    senitment_data = sentiment_count(df, asin)\n",
        "    return review_summaries, senitment_data"
      ]
    },
    {
      "cell_type": "markdown",
      "metadata": {
        "nteract": {
          "transient": {
            "deleting": false
          }
        }
      },
      "source": [
        "Load the appliances data as a pandas dataframe"
      ]
    },
    {
      "cell_type": "code",
      "execution_count": 83,
      "metadata": {
        "gather": {
          "logged": 1677668509959
        },
        "jupyter": {
          "outputs_hidden": false,
          "source_hidden": false
        },
        "nteract": {
          "transient": {
            "deleting": false
          }
        }
      },
      "outputs": [
        {
          "data": {
            "text/plain": [
              "(2277, 6)"
            ]
          },
          "execution_count": 83,
          "metadata": {},
          "output_type": "execute_result"
        }
      ],
      "source": [
        "df = pd.io.json.read_json('Appliances_5.json', lines=True)\n",
        "df.sample(n=5)"
      ]
    },
    {
      "cell_type": "markdown",
      "metadata": {
        "nteract": {
          "transient": {
            "deleting": false
          }
        }
      },
      "source": [
        "Create a new data frame only with the columns `asin`, `reviewText`, and `summary`."
      ]
    },
    {
      "cell_type": "code",
      "execution_count": 82,
      "metadata": {
        "gather": {
          "logged": 1677429468041
        },
        "jupyter": {
          "outputs_hidden": false,
          "source_hidden": false
        },
        "nteract": {
          "transient": {
            "deleting": false
          }
        }
      },
      "outputs": [
        {
          "data": {
            "text/plain": [
              "(2277, 3)"
            ]
          },
          "execution_count": 82,
          "metadata": {},
          "output_type": "execute_result"
        }
      ],
      "source": [
        "df_stage = df[['asin', 'reviewText', 'summary']]\n",
        "df_stage.shape"
      ]
    },
    {
      "cell_type": "markdown",
      "metadata": {
        "nteract": {
          "transient": {
            "deleting": false
          }
        }
      },
      "source": [
        "Drop the NaN values and normalize the text by removing additional spaces and punctuations"
      ]
    },
    {
      "cell_type": "code",
      "execution_count": 59,
      "metadata": {
        "gather": {
          "logged": 1677667316427
        },
        "jupyter": {
          "outputs_hidden": false,
          "source_hidden": false
        },
        "nteract": {
          "transient": {
            "deleting": false
          }
        }
      },
      "outputs": [],
      "source": [
        "df_stage = df_stage.dropna()\n",
        "df_stage['reviewText'] = df_stage['reviewText'].apply(lambda x : normalise_text(x))"
      ]
    },
    {
      "cell_type": "markdown",
      "metadata": {
        "nteract": {
          "transient": {
            "deleting": false
          }
        }
      },
      "source": [
        "Call Open AI API to classify the text as either **Cost**, **Quality**, or **Delivery** and store them in the same dataframe in a new column named `category`."
      ]
    },
    {
      "cell_type": "code",
      "execution_count": 132,
      "metadata": {
        "gather": {
          "logged": 1677438306181
        },
        "jupyter": {
          "outputs_hidden": false,
          "source_hidden": false
        },
        "nteract": {
          "transient": {
            "deleting": false
          }
        }
      },
      "outputs": [],
      "source": [
        "def classify_text(s):\n",
        "    conc_string = f'Classify the following review into 1 of the following categories:  categories: [Cost, Quality, Delivery]\\n\\nreview: {s}\\n\\nClassified category:'\n",
        "    response = openai.Completion.create(\n",
        "        engine=\"text-davinci-003\",\n",
        "        prompt=conc_string,\n",
        "        temperature=0,\n",
        "        max_tokens=100,\n",
        "        top_p=1,\n",
        "        frequency_penalty=0,\n",
        "        presence_penalty=0,\n",
        "        best_of=1,\n",
        "        stop=None)\n",
        "    sleep(0.4)\n",
        "    for i in response['choices']:\n",
        "        if i['index'] == 0:\n",
        "            return i['text'].strip()\n",
        "\n",
        "df_stage['category'] = df_stage['reviewText'].apply(lambda x : classify_text(x))"
      ]
    },
    {
      "cell_type": "code",
      "execution_count": 15,
      "metadata": {
        "gather": {
          "logged": 1677656010181
        },
        "jupyter": {
          "outputs_hidden": false,
          "source_hidden": false
        },
        "nteract": {
          "transient": {
            "deleting": false
          }
        }
      },
      "outputs": [],
      "source": [
        "def detect_sentiment(s):\n",
        "    conc_string = f'Identify the sentiment in the following review into 1 of the following categories:  categories: [Positive, Neutral, Negative]\\n\\nreview: {s}\\n\\nClassified category:'\n",
        "    response = openai.Completion.create(\n",
        "        engine=\"text-davinci-003\",\n",
        "        prompt=conc_string,\n",
        "        temperature=0,\n",
        "        max_tokens=100,\n",
        "        top_p=1,\n",
        "        frequency_penalty=0,\n",
        "        presence_penalty=0,\n",
        "        best_of=1,\n",
        "        stop=None)\n",
        "    sleep(0.4)\n",
        "    for i in response['choices']:\n",
        "        if i['index'] == 0:\n",
        "            return i['text'].strip()\n",
        "\n",
        "# df_stage['sentiment'] = df_stage['reviewText'].apply(lambda x : detect_sentiment(x))"
      ]
    },
    {
      "cell_type": "code",
      "execution_count": 14,
      "metadata": {
        "gather": {
          "logged": 1677654157643
        },
        "jupyter": {
          "outputs_hidden": false,
          "source_hidden": false
        },
        "nteract": {
          "transient": {
            "deleting": false
          }
        }
      },
      "outputs": [
        {
          "data": {
            "text/plain": [
              "(2277, 5)"
            ]
          },
          "execution_count": 14,
          "metadata": {},
          "output_type": "execute_result"
        }
      ],
      "source": [
        "# df_stage = pd.read_csv('category_class_output.csv')\n",
        "df_stage.shape"
      ]
    },
    {
      "cell_type": "code",
      "execution_count": 96,
      "metadata": {
        "gather": {
          "logged": 1677676928373
        },
        "jupyter": {
          "outputs_hidden": false,
          "source_hidden": false
        },
        "nteract": {
          "transient": {
            "deleting": false
          }
        }
      },
      "outputs": [
        {
          "data": {
            "text/html": [
              "<div>\n",
              "<style scoped>\n",
              "    .dataframe tbody tr th:only-of-type {\n",
              "        vertical-align: middle;\n",
              "    }\n",
              "\n",
              "    .dataframe tbody tr th {\n",
              "        vertical-align: top;\n",
              "    }\n",
              "\n",
              "    .dataframe thead th {\n",
              "        text-align: right;\n",
              "    }\n",
              "</style>\n",
              "<table border=\"1\" class=\"dataframe\">\n",
              "  <thead>\n",
              "    <tr style=\"text-align: right;\">\n",
              "      <th></th>\n",
              "      <th>Unnamed: 0</th>\n",
              "      <th>asin</th>\n",
              "      <th>reviewText</th>\n",
              "      <th>summary</th>\n",
              "      <th>category</th>\n",
              "      <th>sentiment</th>\n",
              "    </tr>\n",
              "  </thead>\n",
              "  <tbody>\n",
              "    <tr>\n",
              "      <th>1311</th>\n",
              "      <td>1311</td>\n",
              "      <td>B0006GVNOA</td>\n",
              "      <td>Great product but they need to include more ro...</td>\n",
              "      <td>Works Great, Just Use Common Sense When Doing ...</td>\n",
              "      <td>Quality</td>\n",
              "      <td>Neutral</td>\n",
              "    </tr>\n",
              "    <tr>\n",
              "      <th>116</th>\n",
              "      <td>116</td>\n",
              "      <td>B0006GVNOA</td>\n",
              "      <td>We have 24 foot of solid dryer vent pipe endin...</td>\n",
              "      <td>This really worked well even taking shortcuts</td>\n",
              "      <td>Quality</td>\n",
              "      <td>Positive</td>\n",
              "    </tr>\n",
              "    <tr>\n",
              "      <th>2062</th>\n",
              "      <td>2062</td>\n",
              "      <td>B0006GVNOA</td>\n",
              "      <td>first thing first: it works. the kit is great ...</td>\n",
              "      <td>good kit with some caveats</td>\n",
              "      <td>Cost</td>\n",
              "      <td>Neutral</td>\n",
              "    </tr>\n",
              "    <tr>\n",
              "      <th>603</th>\n",
              "      <td>603</td>\n",
              "      <td>B0006GVNOA</td>\n",
              "      <td>Works great. I used it and an extension kit wi...</td>\n",
              "      <td>Worked like a charm</td>\n",
              "      <td>Quality</td>\n",
              "      <td>Positive</td>\n",
              "    </tr>\n",
              "    <tr>\n",
              "      <th>2146</th>\n",
              "      <td>2146</td>\n",
              "      <td>B0042U16YI</td>\n",
              "      <td>A+</td>\n",
              "      <td>Five Stars</td>\n",
              "      <td>Quality</td>\n",
              "      <td>Positive</td>\n",
              "    </tr>\n",
              "  </tbody>\n",
              "</table>\n",
              "</div>"
            ],
            "text/plain": [
              "      Unnamed: 0        asin  \\\n",
              "1311        1311  B0006GVNOA   \n",
              "116          116  B0006GVNOA   \n",
              "2062        2062  B0006GVNOA   \n",
              "603          603  B0006GVNOA   \n",
              "2146        2146  B0042U16YI   \n",
              "\n",
              "                                             reviewText  \\\n",
              "1311  Great product but they need to include more ro...   \n",
              "116   We have 24 foot of solid dryer vent pipe endin...   \n",
              "2062  first thing first: it works. the kit is great ...   \n",
              "603   Works great. I used it and an extension kit wi...   \n",
              "2146                                                 A+   \n",
              "\n",
              "                                                summary category sentiment  \n",
              "1311  Works Great, Just Use Common Sense When Doing ...  Quality   Neutral  \n",
              "116       This really worked well even taking shortcuts  Quality  Positive  \n",
              "2062                         good kit with some caveats     Cost   Neutral  \n",
              "603                                 Worked like a charm  Quality  Positive  \n",
              "2146                                         Five Stars  Quality  Positive  "
            ]
          },
          "execution_count": 96,
          "metadata": {},
          "output_type": "execute_result"
        }
      ],
      "source": [
        "df_stage.sample(n=5)"
      ]
    },
    {
      "cell_type": "markdown",
      "metadata": {
        "nteract": {
          "transient": {
            "deleting": false
          }
        }
      },
      "source": [
        "Write your dataframe to CSV which enable you to load it as dataframe later instead of making API calls to your model every time for detecting the sentiment and classifying the review text. "
      ]
    },
    {
      "cell_type": "code",
      "execution_count": 17,
      "metadata": {
        "gather": {
          "logged": 1677656011243
        },
        "jupyter": {
          "outputs_hidden": false,
          "source_hidden": false
        },
        "nteract": {
          "transient": {
            "deleting": false
          }
        }
      },
      "outputs": [],
      "source": [
        "# df_stage.to_csv('category_class_output.csv', index = True)"
      ]
    },
    {
      "cell_type": "markdown",
      "metadata": {
        "nteract": {
          "transient": {
            "deleting": false
          }
        }
      },
      "source": [
        "Get summary of individual text"
      ]
    },
    {
      "cell_type": "code",
      "execution_count": null,
      "metadata": {
        "jupyter": {
          "outputs_hidden": false,
          "source_hidden": false
        },
        "nteract": {
          "transient": {
            "deleting": false
          }
        }
      },
      "outputs": [],
      "source": [
        "def individual_summary(r_text):\n",
        "    response = openai.Completion.create(\n",
        "        engine=\"text-davinci-003\",\n",
        "        prompt=r_text,\n",
        "        temperature=0.7,\n",
        "        max_tokens=100,\n",
        "        top_p=1,\n",
        "        frequency_penalty=0,\n",
        "        presence_penalty=0,\n",
        "        best_of=1,\n",
        "        stop=None)\n",
        "    return response"
      ]
    },
    {
      "cell_type": "markdown",
      "metadata": {
        "nteract": {
          "transient": {
            "deleting": false
          }
        }
      },
      "source": [
        "Get the count of sentiment for specific ASIN"
      ]
    },
    {
      "cell_type": "code",
      "execution_count": 95,
      "metadata": {
        "gather": {
          "logged": 1677670806738
        },
        "jupyter": {
          "outputs_hidden": false,
          "source_hidden": false
        },
        "nteract": {
          "transient": {
            "deleting": false
          }
        }
      },
      "outputs": [
        {
          "data": {
            "text/html": [
              "<div>\n",
              "<style scoped>\n",
              "    .dataframe tbody tr th:only-of-type {\n",
              "        vertical-align: middle;\n",
              "    }\n",
              "\n",
              "    .dataframe tbody tr th {\n",
              "        vertical-align: top;\n",
              "    }\n",
              "\n",
              "    .dataframe thead th {\n",
              "        text-align: right;\n",
              "    }\n",
              "</style>\n",
              "<table border=\"1\" class=\"dataframe\">\n",
              "  <thead>\n",
              "    <tr style=\"text-align: right;\">\n",
              "      <th></th>\n",
              "      <th>asin</th>\n",
              "      <th>review_count</th>\n",
              "    </tr>\n",
              "  </thead>\n",
              "  <tbody>\n",
              "    <tr>\n",
              "      <th>1</th>\n",
              "      <td>B0014CN8Y8</td>\n",
              "      <td>24</td>\n",
              "    </tr>\n",
              "    <tr>\n",
              "      <th>2</th>\n",
              "      <td>B00JGTUQJ6</td>\n",
              "      <td>13</td>\n",
              "    </tr>\n",
              "    <tr>\n",
              "      <th>3</th>\n",
              "      <td>B0015UGPWQ</td>\n",
              "      <td>12</td>\n",
              "    </tr>\n",
              "    <tr>\n",
              "      <th>4</th>\n",
              "      <td>B00CW0O1EW</td>\n",
              "      <td>8</td>\n",
              "    </tr>\n",
              "    <tr>\n",
              "      <th>5</th>\n",
              "      <td>B0056I99WG</td>\n",
              "      <td>8</td>\n",
              "    </tr>\n",
              "    <tr>\n",
              "      <th>6</th>\n",
              "      <td>B004XLDE5A</td>\n",
              "      <td>8</td>\n",
              "    </tr>\n",
              "    <tr>\n",
              "      <th>7</th>\n",
              "      <td>B000XXWOGW</td>\n",
              "      <td>8</td>\n",
              "    </tr>\n",
              "    <tr>\n",
              "      <th>8</th>\n",
              "      <td>B0053F80JA</td>\n",
              "      <td>7</td>\n",
              "    </tr>\n",
              "    <tr>\n",
              "      <th>9</th>\n",
              "      <td>B000NCTOUM</td>\n",
              "      <td>7</td>\n",
              "    </tr>\n",
              "    <tr>\n",
              "      <th>10</th>\n",
              "      <td>B000N6302Q</td>\n",
              "      <td>7</td>\n",
              "    </tr>\n",
              "    <tr>\n",
              "      <th>11</th>\n",
              "      <td>B00P9C66PM</td>\n",
              "      <td>7</td>\n",
              "    </tr>\n",
              "    <tr>\n",
              "      <th>12</th>\n",
              "      <td>B001DPFP88</td>\n",
              "      <td>7</td>\n",
              "    </tr>\n",
              "    <tr>\n",
              "      <th>13</th>\n",
              "      <td>B00570RQ0A</td>\n",
              "      <td>6</td>\n",
              "    </tr>\n",
              "    <tr>\n",
              "      <th>14</th>\n",
              "      <td>B00DM8J11Q</td>\n",
              "      <td>6</td>\n",
              "    </tr>\n",
              "    <tr>\n",
              "      <th>15</th>\n",
              "      <td>B00MGMWTQS</td>\n",
              "      <td>6</td>\n",
              "    </tr>\n",
              "    <tr>\n",
              "      <th>16</th>\n",
              "      <td>B001769IVI</td>\n",
              "      <td>6</td>\n",
              "    </tr>\n",
              "    <tr>\n",
              "      <th>17</th>\n",
              "      <td>B001DHLGOS</td>\n",
              "      <td>6</td>\n",
              "    </tr>\n",
              "    <tr>\n",
              "      <th>18</th>\n",
              "      <td>B00126NABC</td>\n",
              "      <td>6</td>\n",
              "    </tr>\n",
              "  </tbody>\n",
              "</table>\n",
              "</div>"
            ],
            "text/plain": [
              "          asin  review_count\n",
              "1   B0014CN8Y8            24\n",
              "2   B00JGTUQJ6            13\n",
              "3   B0015UGPWQ            12\n",
              "4   B00CW0O1EW             8\n",
              "5   B0056I99WG             8\n",
              "6   B004XLDE5A             8\n",
              "7   B000XXWOGW             8\n",
              "8   B0053F80JA             7\n",
              "9   B000NCTOUM             7\n",
              "10  B000N6302Q             7\n",
              "11  B00P9C66PM             7\n",
              "12  B001DPFP88             7\n",
              "13  B00570RQ0A             6\n",
              "14  B00DM8J11Q             6\n",
              "15  B00MGMWTQS             6\n",
              "16  B001769IVI             6\n",
              "17  B001DHLGOS             6\n",
              "18  B00126NABC             6"
            ]
          },
          "execution_count": 95,
          "metadata": {},
          "output_type": "execute_result"
        }
      ],
      "source": [
        "asin_list = pd.DataFrame(df_stage.asin.value_counts()).reset_index()\n",
        "asin_list.columns = ['asin', 'review_count']\n",
        "asin_list[(asin_list['review_count'] > 5) & (asin_list['review_count'] < 25)]"
      ]
    },
    {
      "cell_type": "code",
      "execution_count": 88,
      "metadata": {
        "gather": {
          "logged": 1677669504488
        },
        "jupyter": {
          "outputs_hidden": false,
          "source_hidden": false
        },
        "nteract": {
          "transient": {
            "deleting": false
          }
        }
      },
      "outputs": [
        {
          "name": "stdout",
          "output_type": "stream",
          "text": [
            "Find below the details about review of this product:\n",
            "\u001b[1m\u001b[96mQuality:\u001b[0m\n",
            "\tSummary: This dryer vent hose fit perfectly and was very easy to install with the provided clamps, or with screw clamps. It was the perfect height and worked great.\n",
            "\tNumber of \u001b[92mPositive\u001b[0m reviews: 10\n",
            "\tNumber of \u001b[91mNegative\u001b[0m reviews: 0\n",
            "\tNumber of \u001b[94mNeutral\u001b[0m reviews: 2\n",
            "\u001b[1m\u001b[96mCost:\u001b[0m\n",
            "\tSummary: It is value for money\n",
            "\tNumber of \u001b[92mPositive\u001b[0m reviews: 1\n",
            "\tNumber of \u001b[91mNegative\u001b[0m reviews: 0\n",
            "\tNumber of \u001b[94mNeutral\u001b[0m reviews: 0\n",
            "\u001b[1m\u001b[96mDelivery:\u001b[0m\n",
            "\tSummary: No Reviews\n",
            "\tNumber of \u001b[92mPositive\u001b[0m reviews: 0\n",
            "\tNumber of \u001b[91mNegative\u001b[0m reviews: 0\n",
            "\tNumber of \u001b[94mNeutral\u001b[0m reviews: 0\n"
          ]
        }
      ],
      "source": [
        "asin_num = input('Enter the asin: ')\n",
        "review_summaries, senitment_data = asin_review_data(df_stage, asin_num)\n",
        "print('Find below the details about review of this product:')\n",
        "print(f'{BOLD}{CYAN}Quality:{ENDC}')\n",
        "print(f'\\tSummary: {review_summaries[\"quality\"]}')\n",
        "print(f'\\tNumber of {OKGREEN}Positive{ENDC} reviews: {senitment_data[\"quality\"][\"positive\"]}')\n",
        "print(f'\\tNumber of {FAIL}Negative{ENDC} reviews: {senitment_data[\"quality\"][\"negative\"]}')\n",
        "print(f'\\tNumber of {BLUE}Neutral{ENDC} reviews: {senitment_data[\"quality\"][\"neutral\"]}')\n",
        "print(f'{BOLD}{CYAN}Cost:{ENDC}')\n",
        "print(f'\\tSummary: {review_summaries[\"cost\"]}')\n",
        "print(f'\\tNumber of {OKGREEN}Positive{ENDC} reviews: {senitment_data[\"cost\"][\"positive\"]}')\n",
        "print(f'\\tNumber of {FAIL}Negative{ENDC} reviews: {senitment_data[\"cost\"][\"negative\"]}')\n",
        "print(f'\\tNumber of {BLUE}Neutral{ENDC} reviews: {senitment_data[\"cost\"][\"neutral\"]}')\n",
        "print(f'{BOLD}{CYAN}Delivery:{ENDC}')\n",
        "print(f'\\tSummary: {review_summaries[\"delivery\"]}')\n",
        "print(f'\\tNumber of {OKGREEN}Positive{ENDC} reviews: {senitment_data[\"delivery\"][\"positive\"]}')\n",
        "print(f'\\tNumber of {FAIL}Negative{ENDC} reviews: {senitment_data[\"delivery\"][\"negative\"]}')\n",
        "print(f'\\tNumber of {BLUE}Neutral{ENDC} reviews: {senitment_data[\"delivery\"][\"neutral\"]}')"
      ]
    },
    {
      "cell_type": "code",
      "execution_count": null,
      "metadata": {
        "jupyter": {
          "outputs_hidden": false,
          "source_hidden": false
        },
        "nteract": {
          "transient": {
            "deleting": false
          }
        }
      },
      "outputs": [],
      "source": []
    }
  ],
  "metadata": {
    "kernel_info": {
      "name": "python310-sdkv2"
    },
    "kernelspec": {
      "display_name": "Python 3.10 - SDK v2",
      "language": "python",
      "name": "python310-sdkv2"
    },
    "language_info": {
      "codemirror_mode": {
        "name": "ipython",
        "version": 3
      },
      "file_extension": ".py",
      "mimetype": "text/x-python",
      "name": "python",
      "nbconvert_exporter": "python",
      "pygments_lexer": "ipython3",
      "version": "3.10.9"
    },
    "microsoft": {
      "host": {
        "AzureML": {
          "notebookHasBeenCompleted": true
        }
      },
      "ms_spell_check": {
        "ms_spell_check_language": "en"
      }
    },
    "nteract": {
      "version": "nteract-front-end@1.0.0"
    }
  },
  "nbformat": 4,
  "nbformat_minor": 2
}
