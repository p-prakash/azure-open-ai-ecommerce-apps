{
  "cells": [
    {
      "cell_type": "markdown",
      "metadata": {
        "nteract": {
          "transient": {
            "deleting": false
          }
        }
      },
      "source": [
        "### Installing the required python libraries (e.g. openai)"
      ]
    },
    {
      "cell_type": "code",
      "execution_count": 13,
      "metadata": {
        "gather": {
          "logged": 1678105912400
        },
        "jupyter": {
          "outputs_hidden": false,
          "source_hidden": false
        },
        "nteract": {
          "transient": {
            "deleting": false
          }
        }
      },
      "outputs": [
        {
          "name": "stdout",
          "output_type": "stream",
          "text": [
            "Checking for openai...\n",
            "Checking for num2words...\n",
            "Checking for openai[embeddings]...\n",
            "Checking for transformers...\n"
          ]
        }
      ],
      "source": [
        "import os\n",
        "import re\n",
        "import sys\n",
        "import json\n",
        "import subprocess\n",
        "import importlib.metadata\n",
        "from time import sleep\n",
        "from azure.identity import DefaultAzureCredential\n",
        "\n",
        "required = ['openai', 'num2words', 'openai[embeddings]', 'transformers']\n",
        "for pkg in required:\n",
        "    print(f'Checking for {pkg}...')\n",
        "    try:\n",
        "        importlib.metadata.version(pkg)\n",
        "    except importlib.metadata.PackageNotFoundError:\n",
        "        subprocess.check_call([sys.executable, '-m', 'pip', 'install', '--quiet', pkg])\n",
        "\n",
        "az_credential = DefaultAzureCredential()"
      ]
    },
    {
      "cell_type": "markdown",
      "metadata": {
        "nteract": {
          "transient": {
            "deleting": false
          }
        }
      },
      "source": [
        "### Importing the required python modules"
      ]
    },
    {
      "cell_type": "code",
      "execution_count": 45,
      "metadata": {
        "gather": {
          "logged": 1678111882066
        },
        "jupyter": {
          "outputs_hidden": false,
          "source_hidden": false
        },
        "nteract": {
          "transient": {
            "deleting": false
          }
        }
      },
      "outputs": [],
      "source": [
        "import pandas as pd\n",
        "import numpy as np\n",
        "import openai\n",
        "import requests\n",
        "from num2words import num2words\n",
        "from openai.embeddings_utils import get_embedding, cosine_similarity\n",
        "from transformers import GPT2TokenizerFast\n",
        "\n",
        "# Define colors to print in the console\n",
        "BLUE = '\\033[94m'\n",
        "CYAN = '\\033[96m'\n",
        "OKGREEN = '\\033[92m'\n",
        "WARNING = '\\033[93m'\n",
        "FAIL = '\\033[91m'\n",
        "ENDC = '\\033[0m'\n",
        "BOLD = '\\033[1m'\n",
        "UNDERLINE = '\\033[4m'"
      ]
    },
    {
      "cell_type": "markdown",
      "metadata": {
        "nteract": {
          "transient": {
            "deleting": false
          }
        }
      },
      "source": [
        "### Configure your Azure Open AI Endpoint & API Key\n",
        "\n",
        "You can find the Endpoint & Key in the **Keys and Endpoint** section of your Open AI resource on the left navigation pane."
      ]
    },
    {
      "cell_type": "code",
      "execution_count": 7,
      "metadata": {
        "gather": {
          "logged": 1678105567680
        },
        "jupyter": {
          "outputs_hidden": false,
          "source_hidden": false
        },
        "nteract": {
          "transient": {
            "deleting": false
          }
        }
      },
      "outputs": [],
      "source": [
        "# Update the RESOURCE_ENDPOINT to your Azure Open AI Endpoint\n",
        "RESOURCE_ENDPOINT = 'https://demo-1.openai.azure.com/'\n",
        "\n",
        "# Update the API_KEY Azure Open AI API Key\n",
        "API_KEY = 'example3xjqidkobjcod6fvnvexample'\n",
        "\n",
        "openai.api_type = \"azure\"\n",
        "openai.api_key = API_KEY\n",
        "openai.api_base = RESOURCE_ENDPOINT\n",
        "openai.api_version = \"2022-12-01\""
      ]
    },
    {
      "cell_type": "markdown",
      "metadata": {
        "nteract": {
          "transient": {
            "deleting": false
          }
        }
      },
      "source": [
        "Necessary functions which will be used later\n",
        "\n",
        "- `normalize_text` - Function to normalize the input text to remove multiple spaces, additional punctuation, etc."
      ]
    },
    {
      "cell_type": "code",
      "execution_count": 8,
      "metadata": {
        "gather": {
          "logged": 1678105570733
        },
        "jupyter": {
          "outputs_hidden": false,
          "source_hidden": false
        },
        "nteract": {
          "transient": {
            "deleting": false
          }
        }
      },
      "outputs": [],
      "source": [
        "# s is input text\n",
        "def normalize_text(s, sep_token = \" \\n \"):\n",
        "    s = re.sub(r'\\s+',  ' ', s).strip()\n",
        "    s = re.sub(r\". ,\",\"\",s)\n",
        "    # remove all instances of multiple spaces\n",
        "    s = s.replace(\"..\",\".\")\n",
        "    s = s.replace(\". .\",\".\")\n",
        "    s = s.replace(\"\\n\", \"\")\n",
        "    s = s.strip()\n",
        "    \n",
        "    return s"
      ]
    },
    {
      "cell_type": "markdown",
      "metadata": {
        "nteract": {
          "transient": {
            "deleting": false
          }
        }
      },
      "source": [
        "### List your deployed Azure OpenAI models"
      ]
    },
    {
      "cell_type": "code",
      "execution_count": 25,
      "metadata": {
        "gather": {
          "logged": 1678106086131
        },
        "jupyter": {
          "outputs_hidden": false,
          "source_hidden": false
        },
        "nteract": {
          "transient": {
            "deleting": false
          }
        }
      },
      "outputs": [
        {
          "name": "stdout",
          "output_type": "stream",
          "text": [
            "Model Name: \u001b[94mtext-search-davinci-query-001\u001b[0m deployed with model Id: \u001b[92m\u001b[1mtest-davinci-search-1\u001b[0m\n",
            "Model Name: \u001b[94mtext-search-davinci-doc-001\u001b[0m deployed with model Id: \u001b[92m\u001b[1mtest-davinci-search-doc-1\u001b[0m\n",
            "Model Name: \u001b[94mtext-davinci-003\u001b[0m deployed with model Id: \u001b[92m\u001b[1mtest-davinci-003\u001b[0m\n",
            "Model Name: \u001b[94mtext-davinci-002\u001b[0m deployed with model Id: \u001b[92m\u001b[1mtext-davinci-002\u001b[0m\n"
          ]
        }
      ],
      "source": [
        "url = openai.api_base + '/openai/deployments?api-version=2022-12-01'\n",
        "r = requests.get(url, headers={\"api-key\": API_KEY})\n",
        "deployment_data = json.loads(r.text.replace('\\n', ''))['data']\n",
        "\n",
        "for deployment in deployment_data:\n",
        "    if deployment['status'] == 'succeeded' and deployment['object'] == 'deployment':\n",
        "        print(f'Model Name: {BLUE}{deployment[\"model\"]}{ENDC} deployed with model Id: {OKGREEN}{BOLD}{deployment[\"id\"]}{ENDC}')\n"
      ]
    },
    {
      "cell_type": "markdown",
      "metadata": {
        "nteract": {
          "transient": {
            "deleting": false
          }
        }
      },
      "source": [
        "Load the data as a pandas dataframe"
      ]
    },
    {
      "cell_type": "code",
      "execution_count": 26,
      "metadata": {
        "gather": {
          "logged": 1678110749667
        },
        "jupyter": {
          "outputs_hidden": false,
          "source_hidden": false
        },
        "nteract": {
          "transient": {
            "deleting": false
          }
        }
      },
      "outputs": [
        {
          "data": {
            "text/html": [
              "<div>\n",
              "<style scoped>\n",
              "    .dataframe tbody tr th:only-of-type {\n",
              "        vertical-align: middle;\n",
              "    }\n",
              "\n",
              "    .dataframe tbody tr th {\n",
              "        vertical-align: top;\n",
              "    }\n",
              "\n",
              "    .dataframe thead th {\n",
              "        text-align: right;\n",
              "    }\n",
              "</style>\n",
              "<table border=\"1\" class=\"dataframe\">\n",
              "  <thead>\n",
              "    <tr style=\"text-align: right;\">\n",
              "      <th></th>\n",
              "      <th>question_id</th>\n",
              "      <th>question_text</th>\n",
              "      <th>asin</th>\n",
              "      <th>bullet_point1</th>\n",
              "      <th>bullet_point2</th>\n",
              "      <th>bullet_point3</th>\n",
              "      <th>bullet_point4</th>\n",
              "      <th>bullet_point5</th>\n",
              "      <th>product_description</th>\n",
              "      <th>brand_name</th>\n",
              "      <th>item_name</th>\n",
              "      <th>question_type</th>\n",
              "      <th>answer_aggregated</th>\n",
              "      <th>answers</th>\n",
              "    </tr>\n",
              "  </thead>\n",
              "  <tbody>\n",
              "    <tr>\n",
              "      <th>288759</th>\n",
              "      <td>Tx15UASXFE58739</td>\n",
              "      <td>zagg</td>\n",
              "      <td>B00BG34UMY</td>\n",
              "      <td>2013 Model Ultra Clear HD Premium Quality Japa...</td>\n",
              "      <td>Bubble-Free and No Rainbow effects</td>\n",
              "      <td>Easy Installation Guaranteed</td>\n",
              "      <td>Lifetime Replacement Warranty</td>\n",
              "      <td>2 Screen Protectors Included</td>\n",
              "      <td>The iSmooth Apple iPad 5 Screen Protector Kit ...</td>\n",
              "      <td></td>\n",
              "      <td>iSmooth Apple iPad Air (Apple iPad 5) and iPad...</td>\n",
              "      <td>WH</td>\n",
              "      <td>N/A</td>\n",
              "      <td>[{'answer_text': 'Not Zagg but alot cheaper'}]</td>\n",
              "    </tr>\n",
              "    <tr>\n",
              "      <th>250219</th>\n",
              "      <td>TxW08WPWH3SI2G</td>\n",
              "      <td>are these good for music like adtr and asking ...</td>\n",
              "      <td>B011IH5ZHG</td>\n",
              "      <td>Deep, clear sound enhanced by exclusive TriPor...</td>\n",
              "      <td>Proprietary Stay Hear tips, in three sizes, co...</td>\n",
              "      <td>Sweat and weather-resistant  engineered and te...</td>\n",
              "      <td>Matching protective carrying case included</td>\n",
              "      <td>Headphone Type:  Earbud Home Sport Headphones</td>\n",
              "      <td></td>\n",
              "      <td>Bose</td>\n",
              "      <td>Bose SoundSport in-ear headphones - Charcoal</td>\n",
              "      <td>yes-no</td>\n",
              "      <td>neutral</td>\n",
              "      <td>[{'answer_text': 'My son uses them for EDM and...</td>\n",
              "    </tr>\n",
              "    <tr>\n",
              "      <th>264036</th>\n",
              "      <td>Tx11WCEFOKT5THS</td>\n",
              "      <td>Do these earbuds have a microphone?</td>\n",
              "      <td>B07SN9Q7JV</td>\n",
              "      <td>[CD-like Sound]: Demi wireless earbuds offer a...</td>\n",
              "      <td>[Industry Leading 8H Playtime]: 1 hour charge ...</td>\n",
              "      <td>[Seamless Setup]: Open the charging lid and De...</td>\n",
              "      <td>[IPX7 Waterproof and Rock-Solid Fit]: Demi is ...</td>\n",
              "      <td>[Pioneering Features]: Change tracks, adjust v...</td>\n",
              "      <td></td>\n",
              "      <td></td>\n",
              "      <td>GoNovate Wireless Earbuds, Demi Bluetooth 5.0 ...</td>\n",
              "      <td>yes-no</td>\n",
              "      <td>yes</td>\n",
              "      <td>[{'answer_text': 'Yes it does'}]</td>\n",
              "    </tr>\n",
              "    <tr>\n",
              "      <th>237807</th>\n",
              "      <td>Tx31YPBFPSPY8FM</td>\n",
              "      <td>Will there be a three button mic option for an...</td>\n",
              "      <td>B017LI9HCA</td>\n",
              "      <td>Newly developed, outstanding dynamic 8mm drive...</td>\n",
              "      <td>Precision zinc alloy metal housing, casted by ...</td>\n",
              "      <td>Patented Active Flex sport ear hooks for best ...</td>\n",
              "      <td>Built-in 3-Button Remote Mic specially tuned f...</td>\n",
              "      <td>Tangle-free Diamondback cable is the perfect m...</td>\n",
              "      <td></td>\n",
              "      <td>V-MODA</td>\n",
              "      <td>V-MODA Zn In-Ear Modern Audiophile Headphones ...</td>\n",
              "      <td>yes-no</td>\n",
              "      <td>neutral</td>\n",
              "      <td>[{'answer_text': 'That's very unlikely. They'r...</td>\n",
              "    </tr>\n",
              "    <tr>\n",
              "      <th>27543</th>\n",
              "      <td>Tx1LZ1QJXR58EUE</td>\n",
              "      <td>What size of the speaker?</td>\n",
              "      <td>B07D7TG6MK</td>\n",
              "      <td>DETACHABLE SPORT EARHOOK DESIGN-This sports he...</td>\n",
              "      <td>GOOD SOUND QUALITY FOR MUSIC-The sound of thes...</td>\n",
              "      <td>COMFOFRTABLE AND SECURE FIT: The uniquely desi...</td>\n",
              "      <td>SWEAT-RESISTANT&amp;WATE PROOF: Never mind your he...</td>\n",
              "      <td>QUALITY WARRANTY &amp; MONEY BACK GUARANTEE - MUCR...</td>\n",
              "      <td></td>\n",
              "      <td></td>\n",
              "      <td>Running Headphones Over Ear Sport Earphones wi...</td>\n",
              "      <td>WH</td>\n",
              "      <td>N/A</td>\n",
              "      <td>[{'answer_text': 'The speakers's diam is 10mm ...</td>\n",
              "    </tr>\n",
              "  </tbody>\n",
              "</table>\n",
              "</div>"
            ],
            "text/plain": [
              "            question_id                                      question_text  \\\n",
              "288759  Tx15UASXFE58739                                               zagg   \n",
              "250219   TxW08WPWH3SI2G  are these good for music like adtr and asking ...   \n",
              "264036  Tx11WCEFOKT5THS                Do these earbuds have a microphone?   \n",
              "237807  Tx31YPBFPSPY8FM  Will there be a three button mic option for an...   \n",
              "27543   Tx1LZ1QJXR58EUE                          What size of the speaker?   \n",
              "\n",
              "              asin                                      bullet_point1  \\\n",
              "288759  B00BG34UMY  2013 Model Ultra Clear HD Premium Quality Japa...   \n",
              "250219  B011IH5ZHG  Deep, clear sound enhanced by exclusive TriPor...   \n",
              "264036  B07SN9Q7JV  [CD-like Sound]: Demi wireless earbuds offer a...   \n",
              "237807  B017LI9HCA  Newly developed, outstanding dynamic 8mm drive...   \n",
              "27543   B07D7TG6MK  DETACHABLE SPORT EARHOOK DESIGN-This sports he...   \n",
              "\n",
              "                                            bullet_point2  \\\n",
              "288759                 Bubble-Free and No Rainbow effects   \n",
              "250219  Proprietary Stay Hear tips, in three sizes, co...   \n",
              "264036  [Industry Leading 8H Playtime]: 1 hour charge ...   \n",
              "237807  Precision zinc alloy metal housing, casted by ...   \n",
              "27543   GOOD SOUND QUALITY FOR MUSIC-The sound of thes...   \n",
              "\n",
              "                                            bullet_point3  \\\n",
              "288759                       Easy Installation Guaranteed   \n",
              "250219  Sweat and weather-resistant  engineered and te...   \n",
              "264036  [Seamless Setup]: Open the charging lid and De...   \n",
              "237807  Patented Active Flex sport ear hooks for best ...   \n",
              "27543   COMFOFRTABLE AND SECURE FIT: The uniquely desi...   \n",
              "\n",
              "                                            bullet_point4  \\\n",
              "288759                      Lifetime Replacement Warranty   \n",
              "250219         Matching protective carrying case included   \n",
              "264036  [IPX7 Waterproof and Rock-Solid Fit]: Demi is ...   \n",
              "237807  Built-in 3-Button Remote Mic specially tuned f...   \n",
              "27543   SWEAT-RESISTANT&WATE PROOF: Never mind your he...   \n",
              "\n",
              "                                            bullet_point5  \\\n",
              "288759                       2 Screen Protectors Included   \n",
              "250219      Headphone Type:  Earbud Home Sport Headphones   \n",
              "264036  [Pioneering Features]: Change tracks, adjust v...   \n",
              "237807  Tangle-free Diamondback cable is the perfect m...   \n",
              "27543   QUALITY WARRANTY & MONEY BACK GUARANTEE - MUCR...   \n",
              "\n",
              "                                      product_description brand_name  \\\n",
              "288759  The iSmooth Apple iPad 5 Screen Protector Kit ...              \n",
              "250219                                                          Bose   \n",
              "264036                                                                 \n",
              "237807                                                        V-MODA   \n",
              "27543                                                                  \n",
              "\n",
              "                                                item_name question_type  \\\n",
              "288759  iSmooth Apple iPad Air (Apple iPad 5) and iPad...            WH   \n",
              "250219       Bose SoundSport in-ear headphones - Charcoal        yes-no   \n",
              "264036  GoNovate Wireless Earbuds, Demi Bluetooth 5.0 ...        yes-no   \n",
              "237807  V-MODA Zn In-Ear Modern Audiophile Headphones ...        yes-no   \n",
              "27543   Running Headphones Over Ear Sport Earphones wi...            WH   \n",
              "\n",
              "       answer_aggregated                                            answers  \n",
              "288759               N/A     [{'answer_text': 'Not Zagg but alot cheaper'}]  \n",
              "250219           neutral  [{'answer_text': 'My son uses them for EDM and...  \n",
              "264036               yes                   [{'answer_text': 'Yes it does'}]  \n",
              "237807           neutral  [{'answer_text': 'That's very unlikely. They'r...  \n",
              "27543                N/A  [{'answer_text': 'The speakers's diam is 10mm ...  "
            ]
          },
          "execution_count": 26,
          "metadata": {},
          "output_type": "execute_result"
        }
      ],
      "source": [
        "df = pd.io.json.read_json('amazon_pqa_earbud_headphones.json', lines=True)\n",
        "df.sample(n=5)"
      ]
    },
    {
      "cell_type": "markdown",
      "metadata": {
        "nteract": {
          "transient": {
            "deleting": false
          }
        }
      },
      "source": [
        "Create a new data frame only with the columns `asin`, `item_name`, and `product_description`."
      ]
    },
    {
      "cell_type": "code",
      "execution_count": 27,
      "metadata": {
        "gather": {
          "logged": 1678110754721
        },
        "jupyter": {
          "outputs_hidden": false,
          "source_hidden": false
        },
        "nteract": {
          "transient": {
            "deleting": false
          }
        }
      },
      "outputs": [],
      "source": [
        "df_desc = df[['asin', 'item_name', 'product_description']]"
      ]
    },
    {
      "cell_type": "markdown",
      "metadata": {
        "nteract": {
          "transient": {
            "deleting": false
          }
        }
      },
      "source": [
        "Drop duplicate ASINs and drop cells with empty values"
      ]
    },
    {
      "cell_type": "code",
      "execution_count": 28,
      "metadata": {
        "gather": {
          "logged": 1678110756961
        },
        "jupyter": {
          "outputs_hidden": false,
          "source_hidden": false
        },
        "nteract": {
          "transient": {
            "deleting": false
          }
        }
      },
      "outputs": [],
      "source": [
        "df_stage = df_desc.drop_duplicates(subset='asin')\n",
        "df_stage = df_stage.replace('', np.nan).dropna()"
      ]
    },
    {
      "cell_type": "markdown",
      "metadata": {
        "nteract": {
          "transient": {
            "deleting": false
          }
        }
      },
      "source": [
        "Normalize the value of `product_description` column "
      ]
    },
    {
      "cell_type": "code",
      "execution_count": 29,
      "metadata": {
        "gather": {
          "logged": 1678110765475
        },
        "jupyter": {
          "outputs_hidden": false,
          "source_hidden": false
        },
        "nteract": {
          "transient": {
            "deleting": false
          }
        }
      },
      "outputs": [],
      "source": [
        "df_stage['product_description'] = df_stage['product_description'].apply(lambda x : normalize_text(x))"
      ]
    },
    {
      "cell_type": "markdown",
      "metadata": {
        "nteract": {
          "transient": {
            "deleting": false
          }
        }
      },
      "source": [
        "Reset the index of the dataframe"
      ]
    },
    {
      "cell_type": "code",
      "execution_count": 33,
      "metadata": {
        "gather": {
          "logged": 1678110803154
        },
        "jupyter": {
          "outputs_hidden": false,
          "source_hidden": false
        },
        "nteract": {
          "transient": {
            "deleting": false
          }
        }
      },
      "outputs": [
        {
          "data": {
            "text/html": [
              "<div>\n",
              "<style scoped>\n",
              "    .dataframe tbody tr th:only-of-type {\n",
              "        vertical-align: middle;\n",
              "    }\n",
              "\n",
              "    .dataframe tbody tr th {\n",
              "        vertical-align: top;\n",
              "    }\n",
              "\n",
              "    .dataframe thead th {\n",
              "        text-align: right;\n",
              "    }\n",
              "</style>\n",
              "<table border=\"1\" class=\"dataframe\">\n",
              "  <thead>\n",
              "    <tr style=\"text-align: right;\">\n",
              "      <th></th>\n",
              "      <th>asin</th>\n",
              "      <th>item_name</th>\n",
              "      <th>product_description</th>\n",
              "    </tr>\n",
              "  </thead>\n",
              "  <tbody>\n",
              "    <tr>\n",
              "      <th>10737</th>\n",
              "      <td>B07QXTZRXC</td>\n",
              "      <td>Stillbetter 3.5mm Jack Pink Wired Earbuds in-E...</td>\n",
              "      <td>Details Item: Wired In-ear Earbuds with Case C...</td>\n",
              "    </tr>\n",
              "    <tr>\n",
              "      <th>80</th>\n",
              "      <td>B06WLQB8JV</td>\n",
              "      <td>Truly Wireless Earbuds, LightBiz Noise Cancell...</td>\n",
              "      <td>LightBiz Mini Bluetooth Earbud is Smallest, Po...</td>\n",
              "    </tr>\n",
              "    <tr>\n",
              "      <th>1322</th>\n",
              "      <td>B07M8SZFF7</td>\n",
              "      <td>Wireless Earbuds,WSCSR E18 Latest Bluetooth 5....</td>\n",
              "      <td>Color: Black when we say truly wireless \", we ...</td>\n",
              "    </tr>\n",
              "    <tr>\n",
              "      <th>4750</th>\n",
              "      <td>B07H7NVB8M</td>\n",
              "      <td>Bluetooth Headphones Wireless Headphones Runni...</td>\n",
              "      <td>Bluetooth Headphones&amp;Wireless HeadphonesThe bl...</td>\n",
              "    </tr>\n",
              "    <tr>\n",
              "      <th>5546</th>\n",
              "      <td>B0192H4U9I</td>\n",
              "      <td>Earsonics - S-EM9 in-ear Earphones</td>\n",
              "      <td>Building on the S-EM6 success, Earsonics decid...</td>\n",
              "    </tr>\n",
              "  </tbody>\n",
              "</table>\n",
              "</div>"
            ],
            "text/plain": [
              "             asin                                          item_name  \\\n",
              "10737  B07QXTZRXC  Stillbetter 3.5mm Jack Pink Wired Earbuds in-E...   \n",
              "80     B06WLQB8JV  Truly Wireless Earbuds, LightBiz Noise Cancell...   \n",
              "1322   B07M8SZFF7  Wireless Earbuds,WSCSR E18 Latest Bluetooth 5....   \n",
              "4750   B07H7NVB8M  Bluetooth Headphones Wireless Headphones Runni...   \n",
              "5546   B0192H4U9I                 Earsonics - S-EM9 in-ear Earphones   \n",
              "\n",
              "                                     product_description  \n",
              "10737  Details Item: Wired In-ear Earbuds with Case C...  \n",
              "80     LightBiz Mini Bluetooth Earbud is Smallest, Po...  \n",
              "1322   Color: Black when we say truly wireless \", we ...  \n",
              "4750   Bluetooth Headphones&Wireless HeadphonesThe bl...  \n",
              "5546   Building on the S-EM6 success, Earsonics decid...  "
            ]
          },
          "execution_count": 33,
          "metadata": {},
          "output_type": "execute_result"
        }
      ],
      "source": [
        "df_stage.reset_index(inplace=True, drop=True)\n",
        "# df_stage = df_stage.drop('index', axis=1)\n",
        "df_stage.sample(n=5)"
      ]
    },
    {
      "cell_type": "markdown",
      "metadata": {
        "nteract": {
          "transient": {
            "deleting": false
          }
        }
      },
      "source": [
        "Using the HuggingFace `GPT2TokenizerFast` tokenizer generate the tokens for the `product_description`"
      ]
    },
    {
      "cell_type": "code",
      "execution_count": 34,
      "metadata": {
        "gather": {
          "logged": 1678110826214
        },
        "jupyter": {
          "outputs_hidden": false,
          "source_hidden": false
        },
        "nteract": {
          "transient": {
            "deleting": false
          }
        }
      },
      "outputs": [
        {
          "name": "stderr",
          "output_type": "stream",
          "text": [
            "Downloading (…)olve/main/vocab.json: 100%|██████████| 1.04M/1.04M [00:00<00:00, 2.57MB/s]\n",
            "Downloading (…)olve/main/merges.txt: 100%|██████████| 456k/456k [00:00<00:00, 1.13MB/s]\n",
            "Downloading (…)/main/tokenizer.json: 100%|██████████| 1.36M/1.36M [00:00<00:00, 2.79MB/s]\n",
            "Downloading (…)lve/main/config.json: 100%|██████████| 665/665 [00:00<00:00, 349kB/s]\n",
            "Token indices sequence length is longer than the specified maximum sequence length for this model (1201 > 1024). Running this sequence through the model will result in indexing errors\n"
          ]
        },
        {
          "data": {
            "text/plain": [
              "(13475, 4)"
            ]
          },
          "execution_count": 34,
          "metadata": {},
          "output_type": "execute_result"
        }
      ],
      "source": [
        "tokenizer = GPT2TokenizerFast.from_pretrained('gpt2')\n",
        "df_stage['n_tokens'] = df_stage['product_description'].apply(lambda x: len(tokenizer.encode(x)))\n",
        "df_stage = df_stage[df_stage.n_tokens<2000]\n",
        "df_stage.shape"
      ]
    },
    {
      "cell_type": "markdown",
      "metadata": {
        "nteract": {
          "transient": {
            "deleting": false
          }
        }
      },
      "source": [
        "Get the embeddings of the product description and store it in a column named `davinci_search`."
      ]
    },
    {
      "cell_type": "code",
      "execution_count": 21,
      "metadata": {
        "gather": {
          "logged": 1677570321864
        },
        "jupyter": {
          "outputs_hidden": false,
          "source_hidden": false
        },
        "nteract": {
          "transient": {
            "deleting": false
          }
        }
      },
      "outputs": [],
      "source": [
        "# df_stage['davinci_search'] = df_stage['product_description'].apply(lambda x : get_embedding(x, engine = 'test-davinci-search-doc-1'))"
      ]
    },
    {
      "cell_type": "markdown",
      "metadata": {
        "nteract": {
          "transient": {
            "deleting": false
          }
        }
      },
      "source": [
        "If the generated embeddings are available in CSV file load that. If not, store the generated embeddings as CSV"
      ]
    },
    {
      "cell_type": "code",
      "execution_count": 98,
      "metadata": {
        "gather": {
          "logged": 1678132820442
        },
        "jupyter": {
          "outputs_hidden": false,
          "source_hidden": false
        },
        "nteract": {
          "transient": {
            "deleting": false
          }
        }
      },
      "outputs": [],
      "source": [
        "import csv\n",
        "# df_stage.to_csv('search_embeddings_output_optimized.csv', sep='|', quoting=csv.QUOTE_NONE, doublequote=False, escapechar='\"')\n",
        "from ast import literal_eval\n",
        "df_stage = pd.read_csv('search_embeddings_output.csv', index_col=0, converters={'davinci_search': literal_eval})"
      ]
    },
    {
      "cell_type": "code",
      "execution_count": 79,
      "metadata": {
        "gather": {
          "logged": 1678131280503
        },
        "jupyter": {
          "outputs_hidden": false,
          "source_hidden": false
        },
        "nteract": {
          "transient": {
            "deleting": false
          }
        }
      },
      "outputs": [
        {
          "data": {
            "text/html": [
              "<div>\n",
              "<style scoped>\n",
              "    .dataframe tbody tr th:only-of-type {\n",
              "        vertical-align: middle;\n",
              "    }\n",
              "\n",
              "    .dataframe tbody tr th {\n",
              "        vertical-align: top;\n",
              "    }\n",
              "\n",
              "    .dataframe thead th {\n",
              "        text-align: right;\n",
              "    }\n",
              "</style>\n",
              "<table border=\"1\" class=\"dataframe\">\n",
              "  <thead>\n",
              "    <tr style=\"text-align: right;\">\n",
              "      <th></th>\n",
              "      <th>asin</th>\n",
              "      <th>item_name</th>\n",
              "      <th>product_description</th>\n",
              "      <th>n_tokens</th>\n",
              "      <th>davinci_search</th>\n",
              "    </tr>\n",
              "  </thead>\n",
              "  <tbody>\n",
              "    <tr>\n",
              "      <th>3698</th>\n",
              "      <td>B07DHG477F</td>\n",
              "      <td>ZOGO Bluetooth Headset V4.1 with Noise Reducti...</td>\n",
              "      <td>Technical Parameters Model: A10 Red Noise redu...</td>\n",
              "      <td>369</td>\n",
              "      <td>[-0.01159856840968132, 0.0035404821392148733, ...</td>\n",
              "    </tr>\n",
              "    <tr>\n",
              "      <th>7263</th>\n",
              "      <td>B0150265QA</td>\n",
              "      <td>WiNi-TECH Wireless Bluetooth Noise Cancelling ...</td>\n",
              "      <td>Features: - Ergonomic earbud design, comfortab...</td>\n",
              "      <td>290</td>\n",
              "      <td>[-0.01673363894224167, -0.001369908219203353, ...</td>\n",
              "    </tr>\n",
              "    <tr>\n",
              "      <th>3115</th>\n",
              "      <td>B07H3TMJP9</td>\n",
              "      <td>Wireless Earbuds,Fantime Bluetooth Wireless 5....</td>\n",
              "      <td>FANTIME is focusing on the design development ...</td>\n",
              "      <td>328</td>\n",
              "      <td>[-0.015261711552739143, 0.0007672155043110251,...</td>\n",
              "    </tr>\n",
              "    <tr>\n",
              "      <th>3864</th>\n",
              "      <td>B071G5JKYD</td>\n",
              "      <td>ADVANCED Evo X Hi-Fi Beryllium Driver Sports I...</td>\n",
              "      <td>A set of quick and transient beryllium dynamic...</td>\n",
              "      <td>286</td>\n",
              "      <td>[-0.004853676538914442, -0.003414375940337777,...</td>\n",
              "    </tr>\n",
              "    <tr>\n",
              "      <th>4436</th>\n",
              "      <td>B07QNJ6PZH</td>\n",
              "      <td>KZ ZS10 Pro in Ear Monitor Earbuds Headphone, ...</td>\n",
              "      <td>KZ ZS10 Pro In Ear Monitor Earbuds Headphone, ...</td>\n",
              "      <td>239</td>\n",
              "      <td>[-0.0046610222198069096, 0.002037414815276861,...</td>\n",
              "    </tr>\n",
              "  </tbody>\n",
              "</table>\n",
              "</div>"
            ],
            "text/plain": [
              "            asin                                          item_name  \\\n",
              "3698  B07DHG477F  ZOGO Bluetooth Headset V4.1 with Noise Reducti...   \n",
              "7263  B0150265QA  WiNi-TECH Wireless Bluetooth Noise Cancelling ...   \n",
              "3115  B07H3TMJP9  Wireless Earbuds,Fantime Bluetooth Wireless 5....   \n",
              "3864  B071G5JKYD  ADVANCED Evo X Hi-Fi Beryllium Driver Sports I...   \n",
              "4436  B07QNJ6PZH  KZ ZS10 Pro in Ear Monitor Earbuds Headphone, ...   \n",
              "\n",
              "                                    product_description  n_tokens  \\\n",
              "3698  Technical Parameters Model: A10 Red Noise redu...       369   \n",
              "7263  Features: - Ergonomic earbud design, comfortab...       290   \n",
              "3115  FANTIME is focusing on the design development ...       328   \n",
              "3864  A set of quick and transient beryllium dynamic...       286   \n",
              "4436  KZ ZS10 Pro In Ear Monitor Earbuds Headphone, ...       239   \n",
              "\n",
              "                                         davinci_search  \n",
              "3698  [-0.01159856840968132, 0.0035404821392148733, ...  \n",
              "7263  [-0.01673363894224167, -0.001369908219203353, ...  \n",
              "3115  [-0.015261711552739143, 0.0007672155043110251,...  \n",
              "3864  [-0.004853676538914442, -0.003414375940337777,...  \n",
              "4436  [-0.0046610222198069096, 0.002037414815276861,...  "
            ]
          },
          "execution_count": 79,
          "metadata": {},
          "output_type": "execute_result"
        }
      ],
      "source": [
        "df_stage.sample(5)"
      ]
    },
    {
      "cell_type": "markdown",
      "metadata": {
        "nteract": {
          "transient": {
            "deleting": false
          }
        }
      },
      "source": [
        "Search for the products based on the prompt"
      ]
    },
    {
      "cell_type": "code",
      "execution_count": 82,
      "metadata": {
        "gather": {
          "logged": 1678131343439
        },
        "jupyter": {
          "outputs_hidden": false,
          "source_hidden": false
        },
        "nteract": {
          "transient": {
            "deleting": false
          }
        }
      },
      "outputs": [],
      "source": [
        "# search through the reviews for a specific product\n",
        "def search_docs(df, user_query, top_n=3, to_print=True):\n",
        "    embedding = get_embedding(\n",
        "        user_query,\n",
        "        engine='test-davinci-search-1'\n",
        "    )\n",
        "    df['similarities'] = df.davinci_search.apply(lambda x: cosine_similarity(x, embedding))\n",
        "\n",
        "    res = (\n",
        "        df.sort_values('similarities', ascending=False)\n",
        "        .head(top_n)\n",
        "    )\n",
        "    return res\n",
        "\n",
        "\n",
        "res = search_docs(df_stage, \"feel good ear phone with good sound quality\", top_n=4)"
      ]
    },
    {
      "cell_type": "code",
      "execution_count": 94,
      "metadata": {
        "gather": {
          "logged": 1678131921655
        },
        "jupyter": {
          "outputs_hidden": false,
          "source_hidden": false
        },
        "nteract": {
          "transient": {
            "deleting": false
          }
        }
      },
      "outputs": [
        {
          "name": "stdout",
          "output_type": "stream",
          "text": [
            "\u001b[92mName:\u001b[0m \u001b[1mEarbuds, UROPHYLLA Earphones 4 Feet in-Ear Headphones with Microphone Heavy Bass Noise Cancelling Earphones Compatible with iPhone/iPod/iPad/Samsung/Android and More Audio Devices - White\u001b[0m\n",
            "\u001b[96mDescription:\u001b[0m Excellent Sound Hearing As You Never Have Before. Stereo and clear sound, the basic demand of a pair of wonderful earphones. This headphone transfer the beautiful songs to your ears and make you enjoy it. That's what our UROPHYLLA earbuds provides. Most comfortable Three sizes of ear tips including S/M/L make sure the best fit for you. Built-in mic, 4 feet cable, enable you to enjoy hands-free calls with your family and friends conveniently. Widely Compatibility 3.5mm audio jack is able to compatible with almost all 3.5mm headphones port devices, such as most Smartphones, iPhones, iPads, iPods, MP3 player, Laptop, Tablets and so on. Specifications Frequency Response: 20~20KHz Speaker Impedance: 16 Sensiticity(at 1 KHz): 92 3dB Plug: 3.5mm Mic Size: 4.0mm Mic Sensiticity: -43 3dB\n",
            "\n",
            "\u001b[92mName:\u001b[0m \u001b[1mKURSO In-Ear Heavy Bass Ceramic Earphones Stereo Sound Earbuds Noise Isolating Headphones for All iPhones Samsung Mobiles Tablets MP3 Players and More (Grey)\u001b[0m\n",
            "\u001b[96mDescription:\u001b[0m Comfortable Fit Ceramic earphone with compact construction and Included S/M/L soft eartips ensure a comfortable and secure fit for everyone. High sound quality High fidelity drivers along with a wide frequency response, well-balanced bass, mids and trebble. Noise cancellation Noise cancelling reduces surrounding distractions, makes you enjoy a clear sound in noisy environment. Convenience The built-in mic and inline switch let you seamlessly switch between calls and music with one-touch ease.\n",
            "\n",
            "\u001b[92mName:\u001b[0m \u001b[1mMagicMB In-Ear Earbud Headphones, 3.5mm Earphones with Microphone and Volume Control, Comfort-Fit Headsets for iPhone Galaxy Android Phones Tablets\u001b[0m\n",
            "\u001b[96mDescription:\u001b[0m Good Quality Cheap Headphones- Weightless and portable android wired earpiece, the cable consists of interior enameled copper wrapped around TPE high resilience plastic to greatly increase durability and tensile strength. Fashion Simply Design Red Headphones- mix red and black color, make this mic earbuds simple but not low-key. Function- Not just a in-ear earbuds for listen to music, it’s also can be a telephone earphones, designed with inline microphone and volume control, You can make and hang up phone calls and have complete control over volume Easy to Use- Slide the “+/-”button of the stereo earbud headphones to adjust the volume, press the small round button to play the song or answer the phone, press the button twice to skip to the next song, and press the button three times to return back the last song. Universal- 3.5mm jack noise isolation earplugs, compatible for both IOS & Android systems for most phones, but please note that is not compatible directly with iPhone 7 or above iPhone versions. Clear Sound Bass Stereo Headphones-High fidelity sound and 20 Hz - 20 kHz Frequencies are controlled to the bass and tone of each song and no matter what volume setting you choose, the sound quality is still good. Standard Size Sports Wired Earbuds- The rubber earpads is one size fit more, the wired headphones comfort fit for kids, women, men and teens.\n",
            "\n",
            "\u001b[92mName:\u001b[0m \u001b[1mVBASS in-Ear Headphones Noise Isolating Earbuds with Microphone Sweatproof Secure Fit Designed to Stay in Your Ears (Red)\u001b[0m\n",
            "\u001b[96mDescription:\u001b[0m Wonderful Design Powerful, bass-driven stereo sound to keep you connected to your music. Stay in Ear design and smart engineering provide significantly enhanced ambient noise isolation from your surroundings. high passive noise attenuation, and improved acoustic dynamics. Great Comfort Enjoy soft snug earbuds that conform instantly to your ears. now you can stay connected to great sound while complementing your lifestyle: at home, outdoors, commuting or working out. Perfect Audio Fromthe deepest of driving bass lines reaching to soaring, mood-lifting vocals, embrace a mesmerizing audio experience every time. Great Enjoyment With its 3.5mm stereo jack, compatibility with millions of music devices, all brands and phone carriers-Android, iOS, Windows and more.\n",
            "\n"
          ]
        }
      ],
      "source": [
        "for _, item in res.iterrows():\n",
        "    print(f'{OKGREEN}Name:{ENDC} {BOLD}{item[\"item_name\"]}{ENDC}')\n",
        "    print(f'{CYAN}Description:{ENDC} {item[\"product_description\"]}')\n",
        "    print('')"
      ]
    }
  ],
  "metadata": {
    "kernel_info": {
      "name": "python310-sdkv2"
    },
    "kernelspec": {
      "display_name": "Python 3.10 - SDK v2",
      "language": "python",
      "name": "python310-sdkv2"
    },
    "language_info": {
      "codemirror_mode": {
        "name": "ipython",
        "version": 3
      },
      "file_extension": ".py",
      "mimetype": "text/x-python",
      "name": "python",
      "nbconvert_exporter": "python",
      "pygments_lexer": "ipython3",
      "version": "3.10.9"
    },
    "microsoft": {
      "host": {
        "AzureML": {
          "notebookHasBeenCompleted": true
        }
      },
      "ms_spell_check": {
        "ms_spell_check_language": "en"
      }
    },
    "nteract": {
      "version": "nteract-front-end@1.0.0"
    }
  },
  "nbformat": 4,
  "nbformat_minor": 2
}
